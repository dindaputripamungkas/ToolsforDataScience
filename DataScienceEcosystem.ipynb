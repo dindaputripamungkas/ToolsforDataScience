{
 "cells": [
  {
   "cell_type": "markdown",
   "id": "07fc4893",
   "metadata": {},
   "source": [
    "# Data Science Tools and Ecosystem"
   ]
  },
  {
   "cell_type": "markdown",
   "id": "543b1a58",
   "metadata": {},
   "source": [
    "In this notebook, Data Science Tools and Ecosystem are summarized."
   ]
  },
  {
   "cell_type": "markdown",
   "id": "4ca915bf",
   "metadata": {},
   "source": [
    "**Objectives:**\n",
    "- List popular languages for Data Science\n",
    "- List commonly used libraries used by Data Scientists\n",
    "- Examples of arithmetic expressions in Python"
   ]
  },
  {
   "cell_type": "markdown",
   "id": "60b735e1",
   "metadata": {},
   "source": [
    "Some of the popular languages that Data Scientists use are:\n",
    "1. Python\n",
    "1. R\n",
    "1. SQL\n",
    "1. Julia\n",
    "1. Scala"
   ]
  },
  {
   "cell_type": "markdown",
   "id": "734bd527",
   "metadata": {},
   "source": [
    "Some of the commonly used libraries used by Data Scientists include:\n",
    "1. Pandas\n",
    "1. NumPy\n",
    "1. Matplotlib\n",
    "1. Scikit-learn"
   ]
  },
  {
   "cell_type": "markdown",
   "id": "f05e5a24",
   "metadata": {},
   "source": [
    "| Data Science Tools |\n",
    "| ------------- |\n",
    "| RStudio |\n",
    "| Apache Spark |\n",
    "| TensorFlow |"
   ]
  },
  {
   "cell_type": "markdown",
   "id": "55d5dc68",
   "metadata": {},
   "source": [
    "### Below are a few examples of evaluating arithmetic expressions in Python"
   ]
  },
  {
   "cell_type": "code",
   "execution_count": 12,
   "id": "2ad316b0",
   "metadata": {},
   "outputs": [
    {
     "name": "stdout",
     "output_type": "stream",
     "text": [
      "17\n"
     ]
    }
   ],
   "source": [
    "# This a simple arithmetic expression to mutiply then add integers\n",
    "\n",
    "a = (3*4)+5\n",
    "print(a)"
   ]
  },
  {
   "cell_type": "code",
   "execution_count": 13,
   "id": "20525294",
   "metadata": {},
   "outputs": [
    {
     "name": "stdout",
     "output_type": "stream",
     "text": [
      "3.3333333333333335 hours\n"
     ]
    }
   ],
   "source": [
    "# This will convert 200 minutes to hours by diving by 60\n",
    "\n",
    "b = 200/60\n",
    "print(b, 'hours')"
   ]
  },
  {
   "cell_type": "markdown",
   "id": "a598ac97",
   "metadata": {},
   "source": [
    "## Author\n",
    "Dinda Putri Pamungkas"
   ]
  },
  {
   "cell_type": "code",
   "execution_count": null,
   "id": "ab04d3ef",
   "metadata": {},
   "outputs": [],
   "source": []
  }
 ],
 "metadata": {
  "kernelspec": {
   "display_name": "Python 3 (ipykernel)",
   "language": "python",
   "name": "python3"
  },
  "language_info": {
   "codemirror_mode": {
    "name": "ipython",
    "version": 3
   },
   "file_extension": ".py",
   "mimetype": "text/x-python",
   "name": "python",
   "nbconvert_exporter": "python",
   "pygments_lexer": "ipython3",
   "version": "3.9.13"
  }
 },
 "nbformat": 4,
 "nbformat_minor": 5
}
